{
 "cells": [
  {
   "cell_type": "code",
   "execution_count": null,
   "id": "af26235b-67ac-455b-994b-4ca09b13256e",
   "metadata": {},
   "outputs": [],
   "source": [
    "secret = (1,10)"
   ]
  },
  {
   "cell_type": "code",
   "execution_count": null,
   "id": "4819b08c-d088-443a-bec8-667abb0478aa",
   "metadata": {},
   "outputs": [],
   "source": [
    "guess =(1,10)"
   ]
  },
  {
   "cell_type": "code",
   "execution_count": null,
   "id": "a5ae663c-5260-4285-a350-22d2f8ed49e1",
   "metadata": {},
   "outputs": [],
   "source": [
    "Print(\"Guess value is = \", guess)"
   ]
  },
  {
   "cell_type": "code",
   "execution_count": null,
   "id": "0e3bef07-de97-4035-ae98-efc6d223ef49",
   "metadata": {},
   "outputs": [],
   "source": [
    "print(\"Secreet value is = \", secret)"
   ]
  },
  {
   "cell_type": "code",
   "execution_count": null,
   "id": "e3382539-70d1-4c49-93c3-0cab4e22d0aa",
   "metadata": {},
   "outputs": [],
   "source": [
    "if guess < secret:"
   ]
  },
  {
   "cell_type": "code",
   "execution_count": null,
   "id": "3ec4c687-516b-4c62-ba50-db4d19158f7e",
   "metadata": {},
   "outputs": [],
   "source": [
    "print(\"too low!\")"
   ]
  },
  {
   "cell_type": "code",
   "execution_count": null,
   "id": "41c06697-6f9d-48dd-934e-accdd08ff57e",
   "metadata": {},
   "outputs": [],
   "source": [
    "elif guess > secret:"
   ]
  },
  {
   "cell_type": "code",
   "execution_count": null,
   "id": "c9699ac7-dd9c-472d-ba20-4d1b3d831a9a",
   "metadata": {},
   "outputs": [],
   "source": [
    "print(\"too high!\")"
   ]
  },
  {
   "cell_type": "code",
   "execution_count": null,
   "id": "47ee7662-cadc-47dd-b834-9bbc768b8c93",
   "metadata": {},
   "outputs": [],
   "source": [
    "else:"
   ]
  },
  {
   "cell_type": "code",
   "execution_count": null,
   "id": "72ff6cf3-c911-458e-8ea7-ce652320b890",
   "metadata": {},
   "outputs": [],
   "source": [
    "print(\"just right!\")"
   ]
  },
  {
   "cell_type": "code",
   "execution_count": null,
   "id": "be1f9e7d-df76-4101-b533-e04c503b7889",
   "metadata": {},
   "outputs": [],
   "source": []
  },
  {
   "cell_type": "code",
   "execution_count": null,
   "id": "d351983b-f0ee-422a-84ba-342dd2934e1e",
   "metadata": {},
   "outputs": [],
   "source": [
    "if smal and green:"
   ]
  },
  {
   "cell_type": "code",
   "execution_count": null,
   "id": "17266767-cb4e-4dde-9fbc-e7c18aae145d",
   "metadata": {},
   "outputs": [],
   "source": [
    "print('pea')"
   ]
  },
  {
   "cell_type": "code",
   "execution_count": null,
   "id": "7e9510f8-23a4-4156-8136-e86016a21893",
   "metadata": {},
   "outputs": [],
   "source": [
    "elif small and not green:"
   ]
  },
  {
   "cell_type": "code",
   "execution_count": null,
   "id": "3b605bf2-21b4-465c-90f5-09fa08d7ea35",
   "metadata": {},
   "outputs": [],
   "source": [
    "print('cherry')"
   ]
  },
  {
   "cell_type": "code",
   "execution_count": null,
   "id": "4909d0d8-421f-4b1e-9317-48f066ddad7b",
   "metadata": {},
   "outputs": [],
   "source": [
    "elif not small and green:"
   ]
  },
  {
   "cell_type": "code",
   "execution_count": null,
   "id": "a519cdd6-2659-41ef-8fb4-79cb1f8897cb",
   "metadata": {},
   "outputs": [],
   "source": [
    "print('waterlemon')"
   ]
  },
  {
   "cell_type": "code",
   "execution_count": null,
   "id": "426e0fa2-aeca-49e8-8829-685c3b4cdd36",
   "metadata": {},
   "outputs": [],
   "source": [
    "elif not small and mnot green:"
   ]
  },
  {
   "cell_type": "code",
   "execution_count": null,
   "id": "8601cad1-cd33-405b-8c10-9f9114160ece",
   "metadata": {},
   "outputs": [],
   "source": [
    "print('pumpkin')"
   ]
  },
  {
   "cell_type": "code",
   "execution_count": null,
   "id": "d0917bb0-bfe2-4733-84f6-aa55701d73f9",
   "metadata": {},
   "outputs": [],
   "source": []
  },
  {
   "cell_type": "code",
   "execution_count": null,
   "id": "3fe88136-d441-408c-b014-dc942f3559d8",
   "metadata": {},
   "outputs": [],
   "source": [
    "Adefemi_list = [3,3,1,0]"
   ]
  },
  {
   "cell_type": "code",
   "execution_count": null,
   "id": "2fbcee1a-9f6e-4405-a66f-1f2b17b0fe4f",
   "metadata": {},
   "outputs": [],
   "source": [
    "for item in Adefemi_list"
   ]
  },
  {
   "cell_type": "code",
   "execution_count": null,
   "id": "846c1454-1060-4237-b134-531b71dad4b1",
   "metadata": {},
   "outputs": [],
   "source": [
    "print(item)"
   ]
  },
  {
   "cell_type": "code",
   "execution_count": null,
   "id": "0a9c5485-85b3-4494-8b99-8233c77cd23c",
   "metadata": {},
   "outputs": [],
   "source": []
  },
  {
   "cell_type": "code",
   "execution_count": null,
   "id": "914d9445-6e03-4fe0-a0d6-b5db932ff281",
   "metadata": {},
   "outputs": [],
   "source": []
  },
  {
   "cell_type": "code",
   "execution_count": null,
   "id": "d41fd8ca-5940-490d-82b6-7cc00b844b6c",
   "metadata": {},
   "outputs": [],
   "source": [
    "guess_me = 7"
   ]
  },
  {
   "cell_type": "code",
   "execution_count": null,
   "id": "bb663abc-579f-4bae-aebe-dffd417b7284",
   "metadata": {},
   "outputs": [],
   "source": [
    "number = 1"
   ]
  },
  {
   "cell_type": "code",
   "execution_count": null,
   "id": "44897b6b-41fe-4e52-bdaf-57652a1e3ebe",
   "metadata": {},
   "outputs": [],
   "source": [
    "while True:"
   ]
  },
  {
   "cell_type": "code",
   "execution_count": null,
   "id": "ec22c4a0-a4bb-4ed8-9f11-d51cda7aa576",
   "metadata": {},
   "outputs": [],
   "source": [
    "if number < guess_me"
   ]
  },
  {
   "cell_type": "code",
   "execution_count": null,
   "id": "278dbb72-6b6c-4102-b6d8-23f056aa3f83",
   "metadata": {},
   "outputs": [],
   "source": [
    "print(\"too low\")"
   ]
  },
  {
   "cell_type": "code",
   "execution_count": null,
   "id": "3f266891-5a22-4534-a009-78f5e79f9f3c",
   "metadata": {},
   "outputs": [],
   "source": [
    "elif number == guess_me:"
   ]
  },
  {
   "cell_type": "code",
   "execution_count": null,
   "id": "a38b8074-9dd1-427a-81bc-22bea9c0ce5e",
   "metadata": {},
   "outputs": [],
   "source": [
    "print(\"founf it!\")"
   ]
  },
  {
   "cell_type": "code",
   "execution_count": null,
   "id": "d66045ac-9709-469f-ae99-f3a3990b805a",
   "metadata": {},
   "outputs": [],
   "source": [
    "break"
   ]
  },
  {
   "cell_type": "code",
   "execution_count": null,
   "id": "54197059-b9ca-4484-98a6-6c9c5875cfe3",
   "metadata": {},
   "outputs": [],
   "source": [
    "else:"
   ]
  },
  {
   "cell_type": "code",
   "execution_count": null,
   "id": "82fdb632-6d15-4145-b9cd-f68344961e31",
   "metadata": {},
   "outputs": [],
   "source": [
    "print(\"oops\")"
   ]
  },
  {
   "cell_type": "code",
   "execution_count": null,
   "id": "7c010faf-c726-4d59-936e-25f519885ce1",
   "metadata": {},
   "outputs": [],
   "source": [
    "break"
   ]
  },
  {
   "cell_type": "code",
   "execution_count": null,
   "id": "8ae2f7ae-48e4-4214-9284-997d3c076e6e",
   "metadata": {},
   "outputs": [],
   "source": [
    "number += 1"
   ]
  },
  {
   "cell_type": "code",
   "execution_count": null,
   "id": "1377de72-91fa-41c2-b99e-17ae48236dc0",
   "metadata": {},
   "outputs": [],
   "source": []
  },
  {
   "cell_type": "code",
   "execution_count": null,
   "id": "a2aa28a0-2811-4285-a943-98daa53bfc97",
   "metadata": {},
   "outputs": [],
   "source": []
  },
  {
   "cell_type": "code",
   "execution_count": null,
   "id": "ca993b8f-867d-42f2-97be-7a3697833f97",
   "metadata": {},
   "outputs": [],
   "source": [
    "guess_me = 5"
   ]
  },
  {
   "cell_type": "code",
   "execution_count": null,
   "id": "93726bcb-fa0b-4fef-bd78-cad2da677561",
   "metadata": {},
   "outputs": [],
   "source": [
    "for number in range(10):"
   ]
  },
  {
   "cell_type": "code",
   "execution_count": null,
   "id": "dbfc3498-a122-41f9-9f31-45935aa5d423",
   "metadata": {},
   "outputs": [],
   "source": [
    "ifnumber < guess_me:"
   ]
  },
  {
   "cell_type": "code",
   "execution_count": null,
   "id": "a3ddfe1e-2b18-4405-a18b-9b9a50191826",
   "metadata": {},
   "outputs": [],
   "source": [
    "print('too low')"
   ]
  },
  {
   "cell_type": "code",
   "execution_count": null,
   "id": "c7fabb02-c96c-44e1-8422-fb074415e788",
   "metadata": {},
   "outputs": [],
   "source": [
    "elif number == guess_me:"
   ]
  },
  {
   "cell_type": "code",
   "execution_count": null,
   "id": "578b5dc6-c203-4cd2-a34e-b525e962bd10",
   "metadata": {},
   "outputs": [],
   "source": [
    "print('found it!')"
   ]
  },
  {
   "cell_type": "code",
   "execution_count": null,
   "id": "69f565ba-12cd-4ca3-949d-7e57a0abb6af",
   "metadata": {},
   "outputs": [],
   "source": [
    "break"
   ]
  },
  {
   "cell_type": "code",
   "execution_count": null,
   "id": "4a9fd6d4-cc71-4496-8542-863cd1272d83",
   "metadata": {},
   "outputs": [],
   "source": [
    "else:"
   ]
  },
  {
   "cell_type": "code",
   "execution_count": null,
   "id": "1a62c5ba-6144-433a-af59-74bf25c0c1ca",
   "metadata": {},
   "outputs": [],
   "source": [
    "print('oops')"
   ]
  },
  {
   "cell_type": "code",
   "execution_count": null,
   "id": "bcecc040-d76a-427f-9fb1-50fc46a6e3c8",
   "metadata": {},
   "outputs": [],
   "source": [
    "break"
   ]
  }
 ],
 "metadata": {
  "kernelspec": {
   "display_name": "Python 3 (ipykernel)",
   "language": "python",
   "name": "python3"
  },
  "language_info": {
   "codemirror_mode": {
    "name": "ipython",
    "version": 3
   },
   "file_extension": ".py",
   "mimetype": "text/x-python",
   "name": "python",
   "nbconvert_exporter": "python",
   "pygments_lexer": "ipython3",
   "version": "3.11.7"
  }
 },
 "nbformat": 4,
 "nbformat_minor": 5
}
